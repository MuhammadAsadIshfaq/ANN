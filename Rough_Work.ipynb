{
 "cells": [
  {
   "cell_type": "code",
   "execution_count": null,
   "id": "9016f9d4",
   "metadata": {},
   "outputs": [],
   "source": [
    "import numpy as np\n",
    "\n",
    "def sigmoid(x):\n",
    "    return 1 / (1 + np.exp(-x))\n",
    "\n",
    "def feedforward(inputs, weights, biases):\n",
    "    net_inputs = np.dot(weights, inputs) + biases\n",
    "    return sigmoid(net_inputs)\n",
    "\n",
    "lr = int(input(\"Enter Learning Rate:\"))\n",
    "nx = int(input(\"Enter Number of input:\"))\n",
    "n_H = int(input(\"Enter Number of Hidden Layers:\"))\n",
    "n_z = int(input(\"Enter Number of Output\"))\n",
    "\n",
    "for i in range(n_x):\n",
    "    "
   ]
  }
 ],
 "metadata": {
  "kernelspec": {
   "display_name": "Python 3 (ipykernel)",
   "language": "python",
   "name": "python3"
  },
  "language_info": {
   "codemirror_mode": {
    "name": "ipython",
    "version": 3
   },
   "file_extension": ".py",
   "mimetype": "text/x-python",
   "name": "python",
   "nbconvert_exporter": "python",
   "pygments_lexer": "ipython3",
   "version": "3.9.7"
  }
 },
 "nbformat": 4,
 "nbformat_minor": 5
}
