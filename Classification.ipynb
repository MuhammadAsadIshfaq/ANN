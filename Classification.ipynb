{
 "cells": [
  {
   "cell_type": "code",
   "execution_count": 23,
   "id": "69249aa0",
   "metadata": {},
   "outputs": [
    {
     "name": "stdout",
     "output_type": "stream",
     "text": [
      "Training Accuracy: 1.0\n",
      "Test Accuracy: 0.9\n"
     ]
    }
   ],
   "source": [
    "import numpy as np\n",
    "from sklearn.neural_network import MLPClassifier\n",
    "from sklearn.metrics import accuracy_score\n",
    "\n",
    "# Training data\n",
    "X_train = np.array([[-2, -15], [-10, 2], [-1, -29], [-10, -2], [-21, -15], [-18, -5], [-12, -18], [-15, -16],\n",
    "                    [-5, -22], [-16, -28], [-45, -13], [-11, -27], [2, -34], [-19, -21], [-4, -5], [-18, -16],\n",
    "                    [-28, -39], [-23, -18], [-7, -7], [-23, -23], [9, 5], [2, 39], [14, 15], [7, 27], [3, 17],\n",
    "                    [11, 23], [14, 8], [19, 24], [20, 23], [13, 16], [13, 16], [21, 2], [21, 15], [3, 24], [10, 20],\n",
    "                    [27, 21], [31, 7], [24, 13], [11, 14], [16, 20]])\n",
    "y_train = [0] * 20 + [1] * 20\n",
    "\n",
    "# Test data\n",
    "X_test = np.array([[-1, 4], [-16, -21], [-15, -7], [-10, 8], [-4, -8], [-4, -2], [-4, 2], [-1, 3], [-3, 7], [-3, 5],\n",
    "                   [1, 2], [3, 5], [-1, 15], [3, 12], [10, 20], [1, 10], [-10, 20], [-10, 18], [-7, 19], [20, 20]])\n",
    "y_test = [1, 0, 0, 0, 0, 0, 0, 1, 1, 0, 0, 1, 1, 1, 1, 1, 1, 0, 1, 1]\n",
    "\n",
    "# Create the neural network model\n",
    "model = MLPClassifier(hidden_layer_sizes=(60,), activation='relu', solver='adam', random_state=42)\n",
    "\n",
    "# Fit the model to the training data\n",
    "model.fit(X_train, y_train)\n",
    "\n",
    "# Print accuracy on training data\n",
    "train_pred = model.predict(X_train)\n",
    "train_accuracy = accuracy_score(y_train, train_pred)\n",
    "print(\"Training Accuracy:\", train_accuracy)\n",
    "\n",
    "# Print accuracy on test data\n",
    "test_pred = model.predict(X_test)\n",
    "test_accuracy = accuracy_score(y_test, test_pred)\n",
    "print(\"Test Accuracy:\", test_accuracy)"
   ]
  },
  {
   "cell_type": "code",
   "execution_count": null,
   "id": "5d943cf0",
   "metadata": {},
   "outputs": [],
   "source": []
  }
 ],
 "metadata": {
  "kernelspec": {
   "display_name": "Python 3 (ipykernel)",
   "language": "python",
   "name": "python3"
  },
  "language_info": {
   "codemirror_mode": {
    "name": "ipython",
    "version": 3
   },
   "file_extension": ".py",
   "mimetype": "text/x-python",
   "name": "python",
   "nbconvert_exporter": "python",
   "pygments_lexer": "ipython3",
   "version": "3.9.7"
  }
 },
 "nbformat": 4,
 "nbformat_minor": 5
}
